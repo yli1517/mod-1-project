{
 "cells": [
  {
   "cell_type": "markdown",
   "metadata": {},
   "source": [
    "# Data Import"
   ]
  },
  {
   "cell_type": "markdown",
   "metadata": {},
   "source": [
    "## Import libraries"
   ]
  },
  {
   "cell_type": "code",
   "execution_count": 1,
   "metadata": {},
   "outputs": [],
   "source": [
    "import matplotlib.pyplot as plt\n",
    "import pandas as pd\n",
    "import seaborn as sns\n",
    "import numpy as np\n",
    "%matplotlib inline\n",
    "\n",
    "pd.set_option('display.max_rows', None)\n",
    "pd.set_option('display.max_columns', None)"
   ]
  },
  {
   "cell_type": "markdown",
   "metadata": {},
   "source": [
    "## Import datasets"
   ]
  },
  {
   "cell_type": "markdown",
   "metadata": {},
   "source": [
    "The datasets we use here include: \n",
    "    - IMDB:\n",
    "        - Data source: \n",
    "            - https://www.imdb.com/interfaces/\n",
    "        - Dataset: \n",
    "            - imdb.title.ratings\n",
    "            - imdb.title.basics\n",
    "        - Documentation:\n",
    "            - These datasets were filtered to contain only movies from 2010 to 2018\n",
    "    - The-Numbers.com\n",
    "        - Data source: \n",
    "            - https://www.the-numbers.com/movie/budgets/all)\n",
    "        - Dataset:\n",
    "            - tn.movie_budgets\n",
    "        - Documentation: \n",
    "            - This includes all data from The Numbers"
   ]
  },
  {
   "cell_type": "code",
   "execution_count": 2,
   "metadata": {},
   "outputs": [],
   "source": [
    "imdb_title_ratings = pd.read_csv('data/imdb.title.ratings.csv')\n",
    "imdb_title_basics = pd.read_csv('data/imdb.title.basics.csv')\n",
    "tn_movie_budgets = pd.read_csv('data/tn.movie_budgets.csv')"
   ]
  },
  {
   "cell_type": "markdown",
   "metadata": {},
   "source": [
    "## Merge datasets and rename columns"
   ]
  },
  {
   "cell_type": "code",
   "execution_count": 3,
   "metadata": {},
   "outputs": [],
   "source": [
    "imdb_joined = pd.merge(imdb_title_basics, imdb_title_ratings, on='tconst', how='left')"
   ]
  },
  {
   "cell_type": "code",
   "execution_count": 4,
   "metadata": {},
   "outputs": [],
   "source": [
    "imdb_joined['title'] = imdb_joined['primary_title']"
   ]
  },
  {
   "cell_type": "code",
   "execution_count": 5,
   "metadata": {},
   "outputs": [],
   "source": [
    "imdb_joined['year'] = imdb_joined['start_year']"
   ]
  },
  {
   "cell_type": "code",
   "execution_count": 6,
   "metadata": {},
   "outputs": [],
   "source": [
    "tn_movie_budgets['title'] = tn_movie_budgets['movie']"
   ]
  },
  {
   "cell_type": "code",
   "execution_count": 7,
   "metadata": {},
   "outputs": [],
   "source": [
    "tn_movie_budgets['year'] = tn_movie_budgets['release_date'].map(lambda x:x[-4:]).astype(int)"
   ]
  },
  {
   "cell_type": "code",
   "execution_count": 8,
   "metadata": {},
   "outputs": [],
   "source": [
    "df = pd.merge(tn_movie_budgets, imdb_joined, on =[\"title\", \"year\"], how ='left')"
   ]
  },
  {
   "cell_type": "markdown",
   "metadata": {},
   "source": [
    "# Data Cleaning"
   ]
  },
  {
   "cell_type": "markdown",
   "metadata": {},
   "source": [
    "Change data types"
   ]
  },
  {
   "cell_type": "code",
   "execution_count": 9,
   "metadata": {},
   "outputs": [],
   "source": [
    "df['production_budget'] = df['production_budget'].map(lambda x:float(x.replace(\"$\", \"\").replace(\",\", \"\")))\n",
    "df['domestic_gross'] = df['domestic_gross'].map(lambda x:float(x.replace(\"$\", \"\").replace(\",\", \"\")))\n",
    "df['worldwide_gross'] = df['worldwide_gross'].map(lambda x:float(x.replace(\"$\", \"\").replace(\",\", \"\")))"
   ]
  },
  {
   "cell_type": "code",
   "execution_count": 10,
   "metadata": {},
   "outputs": [],
   "source": [
    "df['release_date'] = pd.to_datetime(df['release_date'])\n",
    "df['release_year_month'] = df['release_date'].dt.to_period(\"M\")"
   ]
  },
  {
   "cell_type": "markdown",
   "metadata": {},
   "source": [
    "Drop duplicated movies in the column of df.title"
   ]
  },
  {
   "cell_type": "code",
   "execution_count": 11,
   "metadata": {},
   "outputs": [],
   "source": [
    "df = df.drop_duplicates(['title'])"
   ]
  },
  {
   "cell_type": "markdown",
   "metadata": {},
   "source": [
    "Drop unnecessary columns"
   ]
  },
  {
   "cell_type": "code",
   "execution_count": 12,
   "metadata": {},
   "outputs": [],
   "source": [
    "df.drop(['id', 'movie', 'tconst', 'primary_title', 'original_title', 'start_year'], axis = 1, inplace = True)"
   ]
  },
  {
   "cell_type": "markdown",
   "metadata": {},
   "source": [
    "Check and drop for missing values"
   ]
  },
  {
   "cell_type": "code",
   "execution_count": 13,
   "metadata": {},
   "outputs": [
    {
     "data": {
      "text/plain": [
       "release_date             0\n",
       "production_budget        0\n",
       "domestic_gross           0\n",
       "worldwide_gross          0\n",
       "title                    0\n",
       "year                     0\n",
       "runtime_minutes       4246\n",
       "genres                4230\n",
       "averagerating         4252\n",
       "numvotes              4252\n",
       "release_year_month       0\n",
       "dtype: int64"
      ]
     },
     "execution_count": 13,
     "metadata": {},
     "output_type": "execute_result"
    }
   ],
   "source": [
    "df.isna().sum()"
   ]
  },
  {
   "cell_type": "code",
   "execution_count": 14,
   "metadata": {},
   "outputs": [],
   "source": [
    "df = df[~df['runtime_minutes'].isna()]\n",
    "df = df[~df['genres'].isna()]\n",
    "df = df[~df['averagerating'].isna()]\n",
    "df = df[~df['numvotes'].isna()]"
   ]
  },
  {
   "cell_type": "code",
   "execution_count": 15,
   "metadata": {},
   "outputs": [
    {
     "data": {
      "text/plain": [
       "release_date          0\n",
       "production_budget     0\n",
       "domestic_gross        0\n",
       "worldwide_gross       0\n",
       "title                 0\n",
       "year                  0\n",
       "runtime_minutes       0\n",
       "genres                0\n",
       "averagerating         0\n",
       "numvotes              0\n",
       "release_year_month    0\n",
       "dtype: int64"
      ]
     },
     "execution_count": 15,
     "metadata": {},
     "output_type": "execute_result"
    }
   ],
   "source": [
    "df.isna().sum()"
   ]
  },
  {
   "cell_type": "markdown",
   "metadata": {},
   "source": [
    "Drop itemss in the columns of df['domestic_gross'] and df['worldwide_gross'] that have values equal to 0"
   ]
  },
  {
   "cell_type": "code",
   "execution_count": 16,
   "metadata": {},
   "outputs": [],
   "source": [
    "df.drop(df.index[df['domestic_gross'] == 0], inplace = True)\n",
    "df.drop(df.index[df['worldwide_gross'] == 0], inplace = True)"
   ]
  },
  {
   "cell_type": "markdown",
   "metadata": {},
   "source": [
    "Create two new variables df['domestic_profit'] and df['worldwide_profit']"
   ]
  },
  {
   "cell_type": "code",
   "execution_count": 17,
   "metadata": {},
   "outputs": [],
   "source": [
    "df['domestic_profit'] = df['domestic_gross'] - df['production_budget']\n",
    "df['worldwide_profit'] = df['worldwide_gross'] - df['production_budget']"
   ]
  },
  {
   "cell_type": "markdown",
   "metadata": {},
   "source": [
    "Rearrange columns"
   ]
  },
  {
   "cell_type": "code",
   "execution_count": 21,
   "metadata": {},
   "outputs": [],
   "source": [
    "df = df[['title', 'genres', 'runtime_minutes',\\\n",
    "        'year', 'release_year_month', 'release_date', 'averagerating',\\\n",
    "        'numvotes', 'production_budget', 'domestic_gross', 'domestic_profit',\\\n",
    "         'worldwide_gross', 'worldwide_profit']]"
   ]
  }
 ],
 "metadata": {
  "kernelspec": {
   "display_name": "Python 3",
   "language": "python",
   "name": "python3"
  },
  "language_info": {
   "codemirror_mode": {
    "name": "ipython",
    "version": 3
   },
   "file_extension": ".py",
   "mimetype": "text/x-python",
   "name": "python",
   "nbconvert_exporter": "python",
   "pygments_lexer": "ipython3",
   "version": "3.7.3"
  }
 },
 "nbformat": 4,
 "nbformat_minor": 2
}
