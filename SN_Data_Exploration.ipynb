{
 "cells": [
  {
   "cell_type": "markdown",
   "metadata": {},
   "source": [
    "# Import datasets"
   ]
  },
  {
   "cell_type": "code",
   "execution_count": 1,
   "metadata": {},
   "outputs": [],
   "source": [
    "import matplotlib.pyplot as plt\n",
    "import pandas as pd\n",
    "import seaborn as sns\n",
    "import numpy as np\n",
    "from mpl_toolkits import mplot3d\n",
    "from collections import OrderedDict\n",
    "%matplotlib inline\n",
    "\n",
    "pd.set_option('display.max_rows', None)\n",
    "pd.set_option('display.max_columns', None)"
   ]
  },
  {
   "cell_type": "code",
   "execution_count": 2,
   "metadata": {},
   "outputs": [],
   "source": [
    "imdb_title_ratings = pd.read_csv('data/imdb.title.ratings.csv')\n",
    "imdb_title_basics = pd.read_csv('data/imdb.title.basics.csv')\n",
    "tn_movie_budgets = pd.read_csv('data/tn.movie_budgets.csv')"
   ]
  },
  {
   "cell_type": "markdown",
   "metadata": {},
   "source": [
    "# Data Merge & Cleaning"
   ]
  },
  {
   "cell_type": "code",
   "execution_count": 3,
   "metadata": {},
   "outputs": [],
   "source": [
    "imdb_joined = pd.merge(imdb_title_basics, imdb_title_ratings, on='tconst', how='left')\n",
    "\n",
    "imdb_joined['title'] = imdb_joined['primary_title']\n",
    "\n",
    "imdb_joined['year'] = imdb_joined['start_year']\n",
    "\n",
    "tn_movie_budgets['title'] = tn_movie_budgets['movie']\n",
    "\n",
    "tn_movie_budgets['year'] = tn_movie_budgets['release_date'].map(lambda x:x[-4:]).astype(int)\n",
    "\n",
    "df = pd.merge(tn_movie_budgets, imdb_joined, on =[\"title\", \"year\"], how ='left')\n",
    "\n",
    "df['production_budget'] = df['production_budget'].map(lambda x:float(x.replace(\"$\", \"\").replace(\",\", \"\")))\n",
    "df['domestic_gross'] = df['domestic_gross'].map(lambda x:float(x.replace(\"$\", \"\").replace(\",\", \"\")))\n",
    "df['worldwide_gross'] = df['worldwide_gross'].map(lambda x:float(x.replace(\"$\", \"\").replace(\",\", \"\")))\n",
    "\n",
    "df['release_date'] = pd.to_datetime(df['release_date'])\n",
    "df['release_year_month'] = df['release_date'].dt.to_period(\"M\")\n",
    "\n",
    "df = df.drop_duplicates(['title'])\n",
    "\n",
    "df.drop(['id', 'movie', 'tconst', 'primary_title', 'original_title', 'start_year'], axis = 1, inplace = True)\n",
    "\n",
    "#df.info()\n",
    "\n",
    "#df.head()\n",
    "\n",
    "df.isna().sum()\n",
    "\n",
    "df = df[~df['runtime_minutes'].isna()]\n",
    "df = df[~df['genres'].isna()]\n",
    "df = df[~df['averagerating'].isna()]\n",
    "df = df[~df['numvotes'].isna()]\n",
    "\n",
    "df.isna().sum()\n",
    "\n",
    "df.drop(df.index[df['domestic_gross'] == 0], inplace = True)\n",
    "df.drop(df.index[df['worldwide_gross'] == 0], inplace = True)\n",
    "\n",
    "#df.describe()\n",
    "\n",
    "df['domestic_profit'] = df['domestic_gross'] - df['production_budget']\n",
    "df['worldwide_profit'] = df['worldwide_gross'] - df['production_budget']\n",
    "\n",
    "df = df[['title', 'genres', 'runtime_minutes',\\\n",
    "        'year', 'release_year_month', 'release_date', 'averagerating',\\\n",
    "        'numvotes', 'production_budget', 'domestic_gross', 'domestic_profit',\\\n",
    "         'worldwide_gross', 'worldwide_profit']]\n",
    "\n",
    "#df.describe()\n",
    "\n",
    "#df.info()"
   ]
  },
  {
   "cell_type": "markdown",
   "metadata": {},
   "source": [
    "# Data Exploration"
   ]
  },
  {
   "cell_type": "code",
   "execution_count": 4,
   "metadata": {},
   "outputs": [
    {
     "data": {
      "text/html": [
       "<div>\n",
       "<style scoped>\n",
       "    .dataframe tbody tr th:only-of-type {\n",
       "        vertical-align: middle;\n",
       "    }\n",
       "\n",
       "    .dataframe tbody tr th {\n",
       "        vertical-align: top;\n",
       "    }\n",
       "\n",
       "    .dataframe thead th {\n",
       "        text-align: right;\n",
       "    }\n",
       "</style>\n",
       "<table border=\"1\" class=\"dataframe\">\n",
       "  <thead>\n",
       "    <tr style=\"text-align: right;\">\n",
       "      <th></th>\n",
       "      <th>title</th>\n",
       "      <th>genres</th>\n",
       "      <th>runtime_minutes</th>\n",
       "      <th>year</th>\n",
       "      <th>release_year_month</th>\n",
       "      <th>release_date</th>\n",
       "      <th>averagerating</th>\n",
       "      <th>numvotes</th>\n",
       "      <th>production_budget</th>\n",
       "      <th>domestic_gross</th>\n",
       "      <th>domestic_profit</th>\n",
       "      <th>worldwide_gross</th>\n",
       "      <th>worldwide_profit</th>\n",
       "    </tr>\n",
       "  </thead>\n",
       "  <tbody>\n",
       "    <tr>\n",
       "      <th>6</th>\n",
       "      <td>Avengers: Infinity War</td>\n",
       "      <td>Action,Adventure,Sci-Fi</td>\n",
       "      <td>149.0</td>\n",
       "      <td>2018</td>\n",
       "      <td>2018-04</td>\n",
       "      <td>2018-04-27</td>\n",
       "      <td>8.5</td>\n",
       "      <td>670926.0</td>\n",
       "      <td>300000000.0</td>\n",
       "      <td>678815482.0</td>\n",
       "      <td>378815482.0</td>\n",
       "      <td>2.048134e+09</td>\n",
       "      <td>1.748134e+09</td>\n",
       "    </tr>\n",
       "    <tr>\n",
       "      <th>33</th>\n",
       "      <td>Jurassic World</td>\n",
       "      <td>Action,Adventure,Sci-Fi</td>\n",
       "      <td>124.0</td>\n",
       "      <td>2015</td>\n",
       "      <td>2015-06</td>\n",
       "      <td>2015-06-12</td>\n",
       "      <td>7.0</td>\n",
       "      <td>539338.0</td>\n",
       "      <td>215000000.0</td>\n",
       "      <td>652270625.0</td>\n",
       "      <td>437270625.0</td>\n",
       "      <td>1.648855e+09</td>\n",
       "      <td>1.433855e+09</td>\n",
       "    </tr>\n",
       "    <tr>\n",
       "      <th>67</th>\n",
       "      <td>Furious 7</td>\n",
       "      <td>Action,Crime,Thriller</td>\n",
       "      <td>137.0</td>\n",
       "      <td>2015</td>\n",
       "      <td>2015-04</td>\n",
       "      <td>2015-04-03</td>\n",
       "      <td>7.2</td>\n",
       "      <td>335074.0</td>\n",
       "      <td>190000000.0</td>\n",
       "      <td>353007020.0</td>\n",
       "      <td>163007020.0</td>\n",
       "      <td>1.518723e+09</td>\n",
       "      <td>1.328723e+09</td>\n",
       "    </tr>\n",
       "  </tbody>\n",
       "</table>\n",
       "</div>"
      ],
      "text/plain": [
       "                     title                   genres  runtime_minutes  year  \\\n",
       "6   Avengers: Infinity War  Action,Adventure,Sci-Fi            149.0  2018   \n",
       "33          Jurassic World  Action,Adventure,Sci-Fi            124.0  2015   \n",
       "67               Furious 7    Action,Crime,Thriller            137.0  2015   \n",
       "\n",
       "   release_year_month release_date  averagerating  numvotes  \\\n",
       "6             2018-04   2018-04-27            8.5  670926.0   \n",
       "33            2015-06   2015-06-12            7.0  539338.0   \n",
       "67            2015-04   2015-04-03            7.2  335074.0   \n",
       "\n",
       "    production_budget  domestic_gross  domestic_profit  worldwide_gross  \\\n",
       "6         300000000.0     678815482.0      378815482.0     2.048134e+09   \n",
       "33        215000000.0     652270625.0      437270625.0     1.648855e+09   \n",
       "67        190000000.0     353007020.0      163007020.0     1.518723e+09   \n",
       "\n",
       "    worldwide_profit  \n",
       "6       1.748134e+09  \n",
       "33      1.433855e+09  \n",
       "67      1.328723e+09  "
      ]
     },
     "execution_count": 4,
     "metadata": {},
     "output_type": "execute_result"
    }
   ],
   "source": [
    "df.sort_values(['worldwide_profit'],ascending=False).head(3)"
   ]
  },
  {
   "cell_type": "markdown",
   "metadata": {},
   "source": [
    "## 1-Profit: Domestic vs Worldwide"
   ]
  },
  {
   "cell_type": "code",
   "execution_count": 6,
   "metadata": {
    "scrolled": true
   },
   "outputs": [
    {
     "data": {
      "image/png": "[encoded data removed]",
      "text/plain": [
       "<Figure size 432x288 with 1 Axes>"
      ]
     },
     "metadata": {
      "needs_background": "light"
     },
     "output_type": "display_data"
    }
   ],
   "source": [
    "df['worldwide_profit'].plot(kind='hist') \n",
    "df['domestic_profit'].plot(kind='hist') \n",
    "\n",
    "plt.title('Distribution of Domestic vs Worldwide Profit')\n",
    "plt.xlabel('Profit')\n",
    "plt.ylabel('Frequency')\n",
    "plt.legend(loc='best')  # legend text comes from the plot's label parameter.\n",
    "plt.show()\n",
    "\n"
   ]
  },
  {
   "cell_type": "markdown",
   "metadata": {},
   "source": [
    "## 2-Genre "
   ]
  },
  {
   "cell_type": "markdown",
   "metadata": {},
   "source": [
    "### 1-1-Combined Genres "
   ]
  },
  {
   "cell_type": "code",
   "execution_count": 7,
   "metadata": {},
   "outputs": [
    {
     "data": {
      "image/png": "[encoded data removed]",
      "text/plain": [
       "<Figure size 432x288 with 1 Axes>"
      ]
     },
     "metadata": {
      "needs_background": "light"
     },
     "output_type": "display_data"
    }
   ],
   "source": [
    "#Sort dataframe by genre\n",
    "pd.value_counts(df['genres']).head(3).plot(kind='barh')   \n",
    "plt.title('Top 3 Most Produced Movies per Combined Genre')\n",
    "plt.xlabel('Movies Counts')\n",
    "df['Percentage_Profit_Worldwide']=df['worldwide_profit']/df['production_budget']"
   ]
  },
  {
   "cell_type": "markdown",
   "metadata": {},
   "source": [
    "**Adventure-Animation-Comedy** is the combination of movies that is the most produced"
   ]
  },
  {
   "cell_type": "code",
   "execution_count": 8,
   "metadata": {},
   "outputs": [],
   "source": [
    "# Sorted dataframe by genres\n",
    "df = df.sort_values('genres',ascending=True)"
   ]
  },
  {
   "cell_type": "markdown",
   "metadata": {},
   "source": [
    "### 1-2-Unique Genre"
   ]
  },
  {
   "cell_type": "code",
   "execution_count": 9,
   "metadata": {},
   "outputs": [],
   "source": [
    "# Get the unique genre\n",
    "Unique_Genre =[]\n",
    "for x in df.genres.str.split(\",\") :\n",
    "    Unique_Genre.extend(x)"
   ]
  },
  {
   "cell_type": "code",
   "execution_count": 10,
   "metadata": {
    "scrolled": true
   },
   "outputs": [
    {
     "data": {
      "image/png": "[encoded data removed]",
      "text/plain": [
       "<Figure size 432x288 with 1 Axes>"
      ]
     },
     "metadata": {
      "needs_background": "light"
     },
     "output_type": "display_data"
    }
   ],
   "source": [
    "pd.value_counts(Unique_Genre).head(3).plot(kind='barh') \n",
    "plt.title('Top 3 Most Produced Movies per Unique Genre')\n",
    "plt.xlabel('Movies Counts')\n",
    "plt.show()"
   ]
  },
  {
   "cell_type": "markdown",
   "metadata": {},
   "source": [
    "**Drama**, **comedy**, and **action** movies are the most produced genres"
   ]
  }
 ],
 "metadata": {
  "kernelspec": {
   "display_name": "Python 3",
   "language": "python",
   "name": "python3"
  },
  "language_info": {
   "codemirror_mode": {
    "name": "ipython",
    "version": 3
   },
   "file_extension": ".py",
   "mimetype": "text/x-python",
   "name": "python",
   "nbconvert_exporter": "python",
   "pygments_lexer": "ipython3",
   "version": "3.7.3"
  }
 },
 "nbformat": 4,
 "nbformat_minor": 2
}
