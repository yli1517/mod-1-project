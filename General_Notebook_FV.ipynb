{
 "cells": [
  {
   "cell_type": "markdown",
   "metadata": {},
   "source": [
    "# Macro Features for Movie Production"
   ]
  },
  {
   "cell_type": "markdown",
   "metadata": {},
   "source": [
    "## Exceutive Summary"
   ]
  },
  {
   "cell_type": "markdown",
   "metadata": {},
   "source": [
    "The purpose of this analysis is to figure out movie production variables that contribute to box office success. The datasets we used for analysis came from IMDB and The-Numbers, and the key variables that we focused on were movie titles, movie genres, time of release, production budget, and worldwide gross income. Our preliminary findings showed that genres and time of movie release seemed to contribute to box office success. Among different types of movie genres, 1) Action, Adventure, Sci-Fi, 2) Action, Adventure, Animation, and 3) Action, Adventure, Comedy are the most popular movie genres; and the best time to release a movie is during early summertime rather than holiday season."
   ]
  },
  {
   "cell_type": "markdown",
   "metadata": {},
   "source": [
    "<img src=\"movie_industry.png\">"
   ]
  },
  {
   "cell_type": "markdown",
   "metadata": {},
   "source": [
    "# Introduction"
   ]
  },
  {
   "cell_type": "markdown",
   "metadata": {},
   "source": [
    "One of the first things a filmmaker needs to decide when making a movie is its genre. This will define how the film is made, who its audience is and how it is marketed. It may also determine the likelihood of the movie making money. Also, the time that a movie should be released, whether is to target summertime or holiday season, is another thing for a filmaker to consider about.  "
   ]
  },
  {
   "cell_type": "markdown",
   "metadata": {},
   "source": [
    "## Goal"
   ]
  },
  {
   "cell_type": "markdown",
   "metadata": {},
   "source": [
    "Our goal is to identify the generes of movie and the best time to release a movie that will contribute to great worldwide profit. "
   ]
  },
  {
   "cell_type": "markdown",
   "metadata": {},
   "source": [
    "## Dataset"
   ]
  },
  {
   "cell_type": "markdown",
   "metadata": {},
   "source": [
    "The datasets we use here came from IMDB and The-Numbers, and the key variables that we were interesed in included movie titles, movie genres, time of release, production budget, and worldwide gross income. After merged datasets, we were working with 1294 movies that had 13 numerical and categorical features. "
   ]
  },
  {
   "cell_type": "markdown",
   "metadata": {},
   "source": [
    "# Analysis"
   ]
  },
  {
   "cell_type": "markdown",
   "metadata": {},
   "source": [
    "### Data cleaning"
   ]
  },
  {
   "cell_type": "markdown",
   "metadata": {},
   "source": [
    "We had many duplicated data, missing values, and impossible values that we had to rectify before furthur analysis."
   ]
  },
  {
   "cell_type": "markdown",
   "metadata": {},
   "source": [
    "### Data analysis"
   ]
  },
  {
   "cell_type": "markdown",
   "metadata": {},
   "source": [
    "We created new variables that reflect profit earned by a movie and modified data type to reflect interests of focus. The histogram gave us a focus about whether we should target domestic or global profit. We chose global profit as our outcome and determined the most profitable generes and best time during a year to release movie.  "
   ]
  },
  {
   "cell_type": "markdown",
   "metadata": {},
   "source": [
    "- Create subseted genre dataframe."
   ]
  },
  {
   "cell_type": "code",
   "execution_count": null,
   "metadata": {},
   "outputs": [],
   "source": [
    "df_subset=pd.DataFrame()\n",
    "df_subset['genres']=df_genre['genres']\n",
    "df_subset['counts']=df_genre['counts']\n",
    "df_subset['worldwide_profit']=df_genre['worldwide_profit']\n",
    "df_subset['Perc']=df_genre['worldwide_profit']\n",
    "df_subset['numvotes']=df_genre['numvotes']\n",
    "df_subset['averagerating']=df_genre['averagerating']\n",
    "df_subset['Percentage_Profit_Worldwide']=df_genre['Percentage_Profit_Worldwide']\n",
    "df_subset= df_subset[(df_subset['counts']>=10)]"
   ]
  },
  {
   "cell_type": "markdown",
   "metadata": {},
   "source": [
    "- Barplot for the best time of a year to release movie based on profit."
   ]
  },
  {
   "cell_type": "code",
   "execution_count": null,
   "metadata": {},
   "outputs": [],
   "source": [
    "worldwide_profit_by_month = df.groupby(['release_month','release_month_str']).worldwide_profit.mean().reset_index()\n",
    "sns.barplot('release_month_str','worldwide_profit', data= worldwide_profit_by_month, color = 'green', label = \"Worldwide Profit\")\n",
    "domestic_profit_by_month = df.groupby(['release_month','release_month_str']).domestic_profit.mean().reset_index()\n",
    "sns.barplot('release_month_str','domestic_profit', data= domestic_profit_by_month, color = 'orange', label = \"Domestic Profit\")"
   ]
  },
  {
   "cell_type": "markdown",
   "metadata": {},
   "source": [
    "## Results"
   ]
  },
  {
   "cell_type": "markdown",
   "metadata": {},
   "source": [
    "The most profitable movie genres:\n",
    "- Action, Adventure, Sci-Fi \n",
    "- Action, Adventure, Animation \n",
    "- Action, Adventure, Comedy"
   ]
  },
  {
   "cell_type": "markdown",
   "metadata": {},
   "source": [
    "<img src=\"profitable movies.png\">"
   ]
  },
  {
   "cell_type": "markdown",
   "metadata": {},
   "source": [
    "The best time to release film:\n",
    "- during early summertime"
   ]
  },
  {
   "cell_type": "markdown",
   "metadata": {},
   "source": [
    "<img src=\"movie profit by release month.png\">"
   ]
  },
  {
   "cell_type": "markdown",
   "metadata": {},
   "source": [
    "## What's Next?"
   ]
  },
  {
   "cell_type": "markdown",
   "metadata": {},
   "source": [
    "- Based on movie genre, we can take a look at what is a suitable movie length for a specific genre.\n",
    "- Determine the most profitable genre based on ROI."
   ]
  }
 ],
 "metadata": {
  "kernelspec": {
   "display_name": "Python 3",
   "language": "python",
   "name": "python3"
  },
  "language_info": {
   "codemirror_mode": {
    "name": "ipython",
    "version": 3
   },
   "file_extension": ".py",
   "mimetype": "text/x-python",
   "name": "python",
   "nbconvert_exporter": "python",
   "pygments_lexer": "ipython3",
   "version": "3.7.3"
  }
 },
 "nbformat": 4,
 "nbformat_minor": 2
}
