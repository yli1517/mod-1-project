{
 "cells": [
  {
   "cell_type": "markdown",
   "metadata": {},
   "source": [
    "# Import datasets"
   ]
  },
  {
   "cell_type": "code",
   "execution_count": 1,
   "metadata": {},
   "outputs": [],
   "source": [
    "import matplotlib.pyplot as plt\n",
    "import pandas as pd\n",
    "import seaborn as sns\n",
    "import numpy as np\n",
    "from mpl_toolkits import mplot3d\n",
    "from collections import OrderedDict\n",
    "%matplotlib inline\n",
    "\n",
    "pd.set_option('display.max_rows', None)\n",
    "pd.set_option('display.max_columns', None)"
   ]
  },
  {
   "cell_type": "code",
   "execution_count": 2,
   "metadata": {},
   "outputs": [],
   "source": [
    "imdb_title_ratings = pd.read_csv('data/imdb.title.ratings.csv')\n",
    "imdb_title_basics = pd.read_csv('data/imdb.title.basics.csv')\n",
    "tn_movie_budgets = pd.read_csv('data/tn.movie_budgets.csv')"
   ]
  },
  {
   "cell_type": "markdown",
   "metadata": {},
   "source": [
    "# Data Merge & Cleaning"
   ]
  },
  {
   "cell_type": "code",
   "execution_count": 3,
   "metadata": {},
   "outputs": [
    {
     "name": "stdout",
     "output_type": "stream",
     "text": [
      "<class 'pandas.core.frame.DataFrame'>\n",
      "Int64Index: 1294 entries, 1 to 5806\n",
      "Data columns (total 13 columns):\n",
      "title                 1294 non-null object\n",
      "genres                1294 non-null object\n",
      "runtime_minutes       1294 non-null float64\n",
      "year                  1294 non-null int64\n",
      "release_year_month    1294 non-null period[M]\n",
      "release_date          1294 non-null datetime64[ns]\n",
      "averagerating         1294 non-null float64\n",
      "numvotes              1294 non-null float64\n",
      "production_budget     1294 non-null float64\n",
      "domestic_gross        1294 non-null float64\n",
      "domestic_profit       1294 non-null float64\n",
      "worldwide_gross       1294 non-null float64\n",
      "worldwide_profit      1294 non-null float64\n",
      "dtypes: datetime64[ns](1), float64(8), int64(1), object(2), period[M](1)\n",
      "memory usage: 141.5+ KB\n"
     ]
    }
   ],
   "source": [
    "imdb_joined = pd.merge(imdb_title_basics, imdb_title_ratings, on='tconst', how='left')\n",
    "\n",
    "imdb_joined['title'] = imdb_joined['primary_title']\n",
    "\n",
    "imdb_joined['year'] = imdb_joined['start_year']\n",
    "\n",
    "tn_movie_budgets['title'] = tn_movie_budgets['movie']\n",
    "\n",
    "tn_movie_budgets['year'] = tn_movie_budgets['release_date'].map(lambda x:x[-4:]).astype(int)\n",
    "\n",
    "df = pd.merge(tn_movie_budgets, imdb_joined, on =[\"title\", \"year\"], how ='left')\n",
    "\n",
    "df['production_budget'] = df['production_budget'].map(lambda x:float(x.replace(\"$\", \"\").replace(\",\", \"\")))\n",
    "df['domestic_gross'] = df['domestic_gross'].map(lambda x:float(x.replace(\"$\", \"\").replace(\",\", \"\")))\n",
    "df['worldwide_gross'] = df['worldwide_gross'].map(lambda x:float(x.replace(\"$\", \"\").replace(\",\", \"\")))\n",
    "\n",
    "df['release_date'] = pd.to_datetime(df['release_date'])\n",
    "df['release_year_month'] = df['release_date'].dt.to_period(\"M\")\n",
    "\n",
    "df = df.drop_duplicates(['title'])\n",
    "\n",
    "df.drop(['id', 'movie', 'tconst', 'primary_title', 'original_title', 'start_year'], axis = 1, inplace = True)\n",
    "\n",
    "#df.info()\n",
    "\n",
    "#df.head()\n",
    "\n",
    "df.isna().sum()\n",
    "\n",
    "df = df[~df['runtime_minutes'].isna()]\n",
    "df = df[~df['genres'].isna()]\n",
    "df = df[~df['averagerating'].isna()]\n",
    "df = df[~df['numvotes'].isna()]\n",
    "\n",
    "df.isna().sum()\n",
    "\n",
    "df.drop(df.index[df['domestic_gross'] == 0], inplace = True)\n",
    "df.drop(df.index[df['worldwide_gross'] == 0], inplace = True)\n",
    "\n",
    "#df.describe()\n",
    "\n",
    "df['domestic_profit'] = df['domestic_gross'] - df['production_budget']\n",
    "df['worldwide_profit'] = df['worldwide_gross'] - df['production_budget']\n",
    "\n",
    "df = df[['title', 'genres', 'runtime_minutes',\\\n",
    "        'year', 'release_year_month', 'release_date', 'averagerating',\\\n",
    "        'numvotes', 'production_budget', 'domestic_gross', 'domestic_profit',\\\n",
    "         'worldwide_gross', 'worldwide_profit']]\n",
    "\n",
    "df.describe()\n",
    "\n",
    "df.info()"
   ]
  },
  {
   "cell_type": "markdown",
   "metadata": {},
   "source": [
    "### Dataset cleaned!"
   ]
  },
  {
   "cell_type": "markdown",
   "metadata": {},
   "source": [
    "# Data Exploration"
   ]
  },
  {
   "cell_type": "code",
   "execution_count": 5,
   "metadata": {},
   "outputs": [
    {
     "data": {
      "text/html": [
       "<div>\n",
       "<style scoped>\n",
       "    .dataframe tbody tr th:only-of-type {\n",
       "        vertical-align: middle;\n",
       "    }\n",
       "\n",
       "    .dataframe tbody tr th {\n",
       "        vertical-align: top;\n",
       "    }\n",
       "\n",
       "    .dataframe thead th {\n",
       "        text-align: right;\n",
       "    }\n",
       "</style>\n",
       "<table border=\"1\" class=\"dataframe\">\n",
       "  <thead>\n",
       "    <tr style=\"text-align: right;\">\n",
       "      <th></th>\n",
       "      <th>title</th>\n",
       "      <th>genres</th>\n",
       "      <th>runtime_minutes</th>\n",
       "      <th>year</th>\n",
       "      <th>release_year_month</th>\n",
       "      <th>release_date</th>\n",
       "      <th>averagerating</th>\n",
       "      <th>numvotes</th>\n",
       "      <th>production_budget</th>\n",
       "      <th>domestic_gross</th>\n",
       "      <th>domestic_profit</th>\n",
       "      <th>worldwide_gross</th>\n",
       "      <th>worldwide_profit</th>\n",
       "    </tr>\n",
       "  </thead>\n",
       "  <tbody>\n",
       "    <tr>\n",
       "      <th>6</th>\n",
       "      <td>Avengers: Infinity War</td>\n",
       "      <td>Action,Adventure,Sci-Fi</td>\n",
       "      <td>149.0</td>\n",
       "      <td>2018</td>\n",
       "      <td>2018-04</td>\n",
       "      <td>2018-04-27</td>\n",
       "      <td>8.5</td>\n",
       "      <td>670926.0</td>\n",
       "      <td>300000000.0</td>\n",
       "      <td>678815482.0</td>\n",
       "      <td>378815482.0</td>\n",
       "      <td>2.048134e+09</td>\n",
       "      <td>1.748134e+09</td>\n",
       "    </tr>\n",
       "    <tr>\n",
       "      <th>33</th>\n",
       "      <td>Jurassic World</td>\n",
       "      <td>Action,Adventure,Sci-Fi</td>\n",
       "      <td>124.0</td>\n",
       "      <td>2015</td>\n",
       "      <td>2015-06</td>\n",
       "      <td>2015-06-12</td>\n",
       "      <td>7.0</td>\n",
       "      <td>539338.0</td>\n",
       "      <td>215000000.0</td>\n",
       "      <td>652270625.0</td>\n",
       "      <td>437270625.0</td>\n",
       "      <td>1.648855e+09</td>\n",
       "      <td>1.433855e+09</td>\n",
       "    </tr>\n",
       "    <tr>\n",
       "      <th>67</th>\n",
       "      <td>Furious 7</td>\n",
       "      <td>Action,Crime,Thriller</td>\n",
       "      <td>137.0</td>\n",
       "      <td>2015</td>\n",
       "      <td>2015-04</td>\n",
       "      <td>2015-04-03</td>\n",
       "      <td>7.2</td>\n",
       "      <td>335074.0</td>\n",
       "      <td>190000000.0</td>\n",
       "      <td>353007020.0</td>\n",
       "      <td>163007020.0</td>\n",
       "      <td>1.518723e+09</td>\n",
       "      <td>1.328723e+09</td>\n",
       "    </tr>\n",
       "  </tbody>\n",
       "</table>\n",
       "</div>"
      ],
      "text/plain": [
       "                     title                   genres  runtime_minutes  year  \\\n",
       "6   Avengers: Infinity War  Action,Adventure,Sci-Fi            149.0  2018   \n",
       "33          Jurassic World  Action,Adventure,Sci-Fi            124.0  2015   \n",
       "67               Furious 7    Action,Crime,Thriller            137.0  2015   \n",
       "\n",
       "   release_year_month release_date  averagerating  numvotes  \\\n",
       "6             2018-04   2018-04-27            8.5  670926.0   \n",
       "33            2015-06   2015-06-12            7.0  539338.0   \n",
       "67            2015-04   2015-04-03            7.2  335074.0   \n",
       "\n",
       "    production_budget  domestic_gross  domestic_profit  worldwide_gross  \\\n",
       "6         300000000.0     678815482.0      378815482.0     2.048134e+09   \n",
       "33        215000000.0     652270625.0      437270625.0     1.648855e+09   \n",
       "67        190000000.0     353007020.0      163007020.0     1.518723e+09   \n",
       "\n",
       "    worldwide_profit  \n",
       "6       1.748134e+09  \n",
       "33      1.433855e+09  \n",
       "67      1.328723e+09  "
      ]
     },
     "execution_count": 5,
     "metadata": {},
     "output_type": "execute_result"
    }
   ],
   "source": [
    "df.sort_values(['worldwide_profit'],ascending=False).head(3)"
   ]
  },
  {
   "cell_type": "markdown",
   "metadata": {},
   "source": [
    "## 1-Profit: Domestic vs Worldwide"
   ]
  },
  {
   "cell_type": "code",
   "execution_count": 6,
   "metadata": {
    "scrolled": true
   },
   "outputs": [
    {
     "data": {
      "image/png": "[encoded data removed]",
      "text/plain": [
       "<Figure size 432x288 with 1 Axes>"
      ]
     },
     "metadata": {
      "needs_background": "light"
     },
     "output_type": "display_data"
    }
   ],
   "source": [
    "df['worldwide_profit'].plot(kind='hist') \n",
    "df['domestic_profit'].plot(kind='hist') \n",
    "\n",
    "plt.title('Distribution of Domestic vs Worldwide Profit')\n",
    "plt.xlabel('Profit')\n",
    "plt.ylabel('Frequency')\n",
    "plt.legend(loc='best')  # legend text comes from the plot's label parameter.\n",
    "plt.show()\n",
    "\n"
   ]
  },
  {
   "cell_type": "markdown",
   "metadata": {},
   "source": [
    "## 2-Genre "
   ]
  },
  {
   "cell_type": "markdown",
   "metadata": {},
   "source": [
    "### 1-1-Combined Genres "
   ]
  },
  {
   "cell_type": "code",
   "execution_count": 55,
   "metadata": {},
   "outputs": [
    {
     "data": {
      "image/png": "[encoded data removed]",
      "text/plain": [
       "<Figure size 432x288 with 1 Axes>"
      ]
     },
     "metadata": {
      "needs_background": "light"
     },
     "output_type": "display_data"
    }
   ],
   "source": [
    "#Sort dataframe by genre\n",
    "pd.value_counts(df['genres']).head(3).plot(kind='barh')   \n",
    "plt.title('Top 3 Most Produced Movies per Combined Genre')\n",
    "plt.xlabel('Movies Counts')\n",
    "df['Percentage_Profit_Worldwide']=df['worldwide_profit']/df['production_budget']"
   ]
  },
  {
   "cell_type": "markdown",
   "metadata": {},
   "source": [
    "**Adventure-Animation-Comedy** is the combination of movies that is the most produced"
   ]
  },
  {
   "cell_type": "code",
   "execution_count": 50,
   "metadata": {},
   "outputs": [],
   "source": [
    "# Sorted dataframe by genres\n",
    "df = df.sort_values('genres',ascending=True)"
   ]
  },
  {
   "cell_type": "markdown",
   "metadata": {},
   "source": [
    "### 1-2-Unique Genre"
   ]
  },
  {
   "cell_type": "code",
   "execution_count": 51,
   "metadata": {},
   "outputs": [],
   "source": [
    "# Get the unique genre\n",
    "Unique_Genre =[]\n",
    "for x in df.genres.str.split(\",\") :\n",
    "    Unique_Genre.extend(x)"
   ]
  },
  {
   "cell_type": "code",
   "execution_count": 56,
   "metadata": {
    "scrolled": true
   },
   "outputs": [
    {
     "data": {
      "image/png": "[encoded data removed]",
      "text/plain": [
       "<Figure size 432x288 with 1 Axes>"
      ]
     },
     "metadata": {
      "needs_background": "light"
     },
     "output_type": "display_data"
    }
   ],
   "source": [
    "pd.value_counts(Unique_Genre).head(3).plot(kind='barh') \n",
    "plt.title('Top 3 Most Produced Movies per Unique Genre')\n",
    "plt.xlabel('Movies Counts')\n",
    "plt.show()"
   ]
  },
  {
   "cell_type": "markdown",
   "metadata": {},
   "source": [
    "**Drama**, **comedy**, and **action** movies are the most produced genres"
   ]
  },
  {
   "cell_type": "markdown",
   "metadata": {},
   "source": [
    "# Data Analysis "
   ]
  },
  {
   "cell_type": "markdown",
   "metadata": {},
   "source": [
    "## 1-Counts, Genre and Profit"
   ]
  },
  {
   "cell_type": "markdown",
   "metadata": {},
   "source": [
    "Create a subset per genre "
   ]
  },
  {
   "cell_type": "code",
   "execution_count": 59,
   "metadata": {
    "scrolled": false
   },
   "outputs": [],
   "source": [
    "genres_=list(((pd.value_counts(df['genres'])).to_dict()).keys())\n",
    "counts_=list(((pd.value_counts(df['genres'])).to_dict()).values())\n",
    "df1 = pd.DataFrame()\n",
    "df1['genres_']=genres_\n",
    "df1['counts_']=counts_\n",
    "df1=df1.sort_values(by=['genres_'])\n",
    "df_genre=(df.groupby(['genres']).mean())\n",
    "# Adding the columns \"counts\" and \"genres\"\n",
    "df_genre['counts'] = list(df1['counts_'])\n",
    "df_genre['genres'] = list(df1['genres_'])"
   ]
  },
  {
   "cell_type": "markdown",
   "metadata": {},
   "source": [
    "There are **209** genres of movies in our dataset and Create a subset that has at least 10 counts per genre "
   ]
  },
  {
   "cell_type": "code",
   "execution_count": 64,
   "metadata": {},
   "outputs": [],
   "source": [
    "df_subset=pd.DataFrame()\n",
    "df_subset[\"genres\"]=df_genre[\"genres\"]\n",
    "df_subset[\"counts\"]=df_genre[\"counts\"]\n",
    "df_subset[\"worldwide_profit\"]=df_genre['worldwide_profit']\n",
    "df_subset[\"Perc\"]=df_genre['worldwide_profit']\n",
    "df_subset[\"numvotes\"]=df_genre[\"numvotes\"]\n",
    "df_subset[\"averagerating\"]=df_genre[\"averagerating\"]\n",
    "df_subset[\"Percentage_Profit_Worldwide\"]=df_genre[\"Percentage_Profit_Worldwide\"]\n",
    "df_subset= df_subset[(df_subset['counts']>=10)]"
   ]
  },
  {
   "cell_type": "markdown",
   "metadata": {},
   "source": [
    "There are **33** genres of movies in our dataset."
   ]
  },
  {
   "cell_type": "code",
   "execution_count": 71,
   "metadata": {},
   "outputs": [
    {
     "data": {
      "image/png": "[encoded data removed]",
      "text/plain": [
       "<Figure size 432x288 with 1 Axes>"
      ]
     },
     "metadata": {
      "needs_background": "light"
     },
     "output_type": "display_data"
    }
   ],
   "source": [
    "plt.plot(df_subset['counts'], df_subset['worldwide_profit'], 'bo')\n",
    "plt.title('Scatter Plot of Genre with at least 10 Counts')\n",
    "plt.xlabel('Counts per Genre')\n",
    "plt.ylabel('Profit')\n",
    "plt.legend(loc='best')\n",
    "plt.show()"
   ]
  },
  {
   "cell_type": "code",
   "execution_count": 78,
   "metadata": {
    "scrolled": false
   },
   "outputs": [
    {
     "data": {
      "image/png": "[encoded data removed]",
      "text/plain": [
       "<Figure size 432x288 with 1 Axes>"
      ]
     },
     "metadata": {
      "needs_background": "light"
     },
     "output_type": "display_data"
    }
   ],
   "source": [
    "df_subset2 = df_subset.sort_values('worldwide_profit',ascending=True)\n",
    "df_subset2['worldwide_profit'].tail(10).plot(kind='barh')\n",
    "plt.xlabel('worldwide Profit')\n",
    "plt.title('Top 10 Most Profitable Movies per Genre')\n",
    "plt.show()"
   ]
  },
  {
   "cell_type": "markdown",
   "metadata": {},
   "source": [
    "## 2-Counts, Genre and Percentage Profit"
   ]
  },
  {
   "cell_type": "code",
   "execution_count": 79,
   "metadata": {
    "scrolled": false
   },
   "outputs": [
    {
     "data": {
      "image/png": "[encoded data removed]",
      "text/plain": [
       "<Figure size 432x288 with 1 Axes>"
      ]
     },
     "metadata": {
      "needs_background": "light"
     },
     "output_type": "display_data"
    }
   ],
   "source": [
    "plt.figure() \n",
    "df_genre = df_genre.sort_values('Percentage_Profit_Worldwide',ascending=True)\n",
    "df_genre['Percentage_Profit_Worldwide'].tail(10).plot(kind='barh')\n",
    "plt.xlabel('Percentage Profit Worldwide')\n",
    "plt.title('Top 10 Most Profitable Movie per Percentage Profit Worldwide')\n",
    "plt.show()"
   ]
  }
 ],
 "metadata": {
  "kernelspec": {
   "display_name": "Python 3",
   "language": "python",
   "name": "python3"
  },
  "language_info": {
   "codemirror_mode": {
    "name": "ipython",
    "version": 3
   },
   "file_extension": ".py",
   "mimetype": "text/x-python",
   "name": "python",
   "nbconvert_exporter": "python",
   "pygments_lexer": "ipython3",
   "version": "3.7.3"
  }
 },
 "nbformat": 4,
 "nbformat_minor": 2
}
